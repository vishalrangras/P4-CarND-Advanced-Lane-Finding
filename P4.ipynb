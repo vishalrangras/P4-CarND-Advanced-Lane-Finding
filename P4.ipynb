{
 "cells": [
  {
   "cell_type": "code",
   "execution_count": 11,
   "metadata": {
    "collapsed": true
   },
   "outputs": [],
   "source": [
    "import numpy as np\n",
    "import cv2\n",
    "import matplotlib.pyplot as plt\n",
    "import matplotlib.image as mpimg\n",
    "#%matplotlib inline"
   ]
  },
  {
   "cell_type": "code",
   "execution_count": 12,
   "metadata": {
    "collapsed": false
   },
   "outputs": [],
   "source": [
    "imgpoints = [] # 2D points in image plane\n",
    "objpoints = [] # 3D points in real world space\n",
    "\n",
    "objp = np.zeros((6*9,3),np.float32)\n",
    "objp[:,:2] = np.mgrid[0:9, 0:6].T.reshape(-1,2) # x, y coordinate\n",
    "\n",
    "corner_images = []\n",
    "def draw_corners(chessimage):\n",
    "    \n",
    "    nx = 9\n",
    "    ny = 6\n",
    "    \n",
    "    img = cv2.imread(chessimage)\n",
    "\n",
    "    gray = cv2.cvtColor(img, cv2.COLOR_BGR2GRAY)\n",
    "\n",
    "    ret, corners = cv2.findChessboardCorners(gray, (nx, ny), None)\n",
    "    if ret == True:\n",
    "        imgpoints.append(corners)\n",
    "        objpoints.append(objp)\n",
    "        cv2.drawChessboardCorners(img, (nx, ny), corners, ret)\n",
    "        corner_images.append(img)\n",
    "    else:\n",
    "        corner_images.append(img)"
   ]
  },
  {
   "cell_type": "code",
   "execution_count": 13,
   "metadata": {
    "collapsed": true
   },
   "outputs": [],
   "source": [
    "import os\n",
    "\n",
    "for file in os.listdir(\"camera_cal/\"):\n",
    "    draw_corners(\"camera_cal/\"+file)"
   ]
  },
  {
   "cell_type": "code",
   "execution_count": 17,
   "metadata": {
    "collapsed": false
   },
   "outputs": [
    {
     "data": {
      "text/plain": [
       "<matplotlib.figure.Figure at 0x8164ba8>"
      ]
     },
     "metadata": {},
     "output_type": "display_data"
    }
   ],
   "source": [
    "corner_frame = plt.figure(figsize=(18,9))\n",
    "\n",
    "#for i in range(0, len(corner_images)):\n",
    "    #axis = corner_frame.add_subplot(4,5,i+1)\n",
    "    #plt.xticks(np.array([]))\n",
    "    #plt.yticks(np.array([]))\n",
    "    #axis.imshow(corner_images[i])\n",
    "#corner_frame.tight_layout(h_pad=0, w_pad=0)\n",
    "#corner_frame.savefig('corners.png')"
   ]
  },
  {
   "cell_type": "code",
   "execution_count": 44,
   "metadata": {
    "collapsed": false
   },
   "outputs": [],
   "source": [
    "undistorted_images = []\n",
    "\n",
    "def undistort_img(path, imgname, objpoints, imgpoints):\n",
    "    img = cv2.imread(path+\"/\"+imgname)\n",
    "    ret, mtx, dist, rvecs, tvecs = cv2.calibrateCamera(objpoints, imgpoints, img.shape[0:2], None, None)\n",
    "    undist = cv2.undistort(img, mtx, dist, None, mtx)\n",
    "    #cv2.imwrite(path+\"/\"+imgname[0:imgname.find('.')]+\"u.jpg\", undist)\n",
    "    #undistorted_images.append(undist)\n",
    "    return undist\n",
    "\n",
    "for file in os.listdir(\"camera_cal/\"):\n",
    "    undist = undistort_img(\"camera_cal\",file, objpoints, imgpoints)\n",
    "    cv2.imwrite(\"camera_cal/\"+file[0:file.find('.')]+\"u.jpg\", undist)\n",
    "    undistorted_images.append(undist)\n",
    "\n",
    "    \n",
    "#undistorted_frame = plt.figure(figsize=(18,9))\n",
    "\n",
    "#for i in range(0, len(undistorted_images)):\n",
    "#    axis = undistorted_frame.add_subplot(4,5,i+1)\n",
    "#    plt.xticks(np.array([]))\n",
    "#    plt.yticks(np.array([]))\n",
    "#    axis.imshow(undistorted_images[i])\n",
    "#undistorted_frame.tight_layout(h_pad=0, w_pad=0)\n",
    "#undistorted_frame.savefig('undistorted_images.png')"
   ]
  },
  {
   "cell_type": "code",
   "execution_count": 53,
   "metadata": {
    "collapsed": false
   },
   "outputs": [
    {
     "data": {
      "text/plain": [
       "True"
      ]
     },
     "execution_count": 53,
     "metadata": {},
     "output_type": "execute_result"
    }
   ],
   "source": [
    "path = \"test_images\"\n",
    "file = \"test6.jpg\"\n",
    "img = mpimg.imread(path+\"/\"+file)\n",
    "\n",
    "#plt.imshow(img)\n",
    "\n",
    "#plt.plot(730, 453,\".\")\n",
    "#plt.plot(1102, 668,\".\")\n",
    "#plt.plot(304, 668,\".\")\n",
    "#plt.plot(622, 453,\".\")\n",
    "\n",
    "def warp(img):\n",
    "    img_size = (img.shape[1], img.shape[0])\n",
    "\n",
    "    #top right, bottom right, bottom left, top left\n",
    "    \n",
    "    \n",
    "    src = np.float32([[768,478],[1115,684],[285, 684],[575, 478]])\n",
    "    #src = np.float32([[730,453],[1102,668],[304, 668],[622, 453]])\n",
    "    \n",
    "    #dst = np.float32([[1115,235],[1115,684],[285, 684],[285, 235]])\n",
    "    dst = np.float32([[1115,135],[1115,718],[285, 718],[285, 135]])\n",
    "    \n",
    "    M = cv2.getPerspectiveTransform(src, dst)\n",
    "\n",
    "    Minv = cv2.getPerspectiveTransform(dst, src)\n",
    "\n",
    "    warped_img = cv2.warpPerspective(img, M, img_size, flags=cv2.INTER_LINEAR)\n",
    "    return warped_img\n",
    "    \n",
    "    \n",
    "undist = undistort_img(path, file, objpoints, imgpoints)\n",
    "warped_img = warp(undist)\n",
    "cv2.imwrite(path+\"/warped_img.jpg\", warped_img)"
   ]
  },
  {
   "cell_type": "code",
   "execution_count": null,
   "metadata": {
    "collapsed": true
   },
   "outputs": [],
   "source": []
  }
 ],
 "metadata": {
  "kernelspec": {
   "display_name": "Python 3",
   "language": "python",
   "name": "python3"
  },
  "language_info": {
   "codemirror_mode": {
    "name": "ipython",
    "version": 3
   },
   "file_extension": ".py",
   "mimetype": "text/x-python",
   "name": "python",
   "nbconvert_exporter": "python",
   "pygments_lexer": "ipython3",
   "version": "3.5.2"
  },
  "widgets": {
   "state": {},
   "version": "1.1.2"
  }
 },
 "nbformat": 4,
 "nbformat_minor": 2
}
